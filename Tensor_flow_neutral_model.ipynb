{
  "nbformat": 4,
  "nbformat_minor": 0,
  "metadata": {
    "colab": {
      "provenance": []
    },
    "kernelspec": {
      "name": "python3",
      "display_name": "Python 3"
    },
    "language_info": {
      "name": "python"
    }
  },
  "cells": [
    {
      "cell_type": "markdown",
      "source": [
        "## Project Introduction\n",
        "\n",
        "\n",
        "In this notebook, we will be building our neural network.\n",
        "\n",
        "\n",
        "The goal of it  is to predict daily ice cream revenue based on two features: temperature and day of the week. The approach this task step-by-step, explaining each component of the process.\n",
        "\n"
      ],
      "metadata": {
        "id": "ZQhv-DiLPT_2"
      }
    },
    {
      "cell_type": "markdown",
      "source": [
        "### Step 0 : Preparing the dataset"
      ],
      "metadata": {
        "id": "kYTVkStUQE81"
      }
    },
    {
      "cell_type": "code",
      "execution_count": 5,
      "metadata": {
        "id": "uVCJdQPMA5qX"
      },
      "outputs": [],
      "source": [
        "#\n",
        "import pandas as pd\n",
        "import numpy as np\n",
        "\n",
        "\n",
        "# data\n",
        "day = [2, 6, 1, 3, 2, 5, 7, 4, 3, 1]\n",
        "temperature = [22, 33, 20, 25, 24, 30, 35, 28, 26, 21]\n",
        "revenue = [1.51, 2.22, 1.37, 1.77, 1.64, 2.04, 2.42, 1.90, 1.75, 1.45]\n",
        "\n",
        "# combining data\n",
        "\n",
        "x_train = np.array(list(zip(day, temperature)))\n",
        "\n",
        "y_train = np.array(revenue)"
      ]
    },
    {
      "cell_type": "code",
      "source": [
        "from sklearn.preprocessing import StandardScaler\n",
        "\n",
        "scaling = StandardScaler()\n",
        "\n",
        "x_train = scaling.fit_transform(x_train)"
      ],
      "metadata": {
        "id": "WjRC6elWDpAB"
      },
      "execution_count": 7,
      "outputs": []
    },
    {
      "cell_type": "markdown",
      "source": [
        "### Step1 : Building the neutral network"
      ],
      "metadata": {
        "id": "ob_Da9gYQgRv"
      }
    },
    {
      "cell_type": "code",
      "source": [
        "#  using keras api work\n",
        "from tensorflow.keras.models import Sequential\n",
        "from tensorflow.keras.layers import Dense\n",
        "# using sequential model : where we are creating layers one at a time\n",
        "\n",
        "model = Sequential()\n",
        "model.add(Dense(3,input_dim = 2, activation = 'relu'))\n",
        "#model.add(Dense(3, activation = 'relu'))\n",
        "model.add(Dense(1, activation = 'relu'))\n",
        "\n",
        "# The Dense layers are fully connected layers where each neuron in one layer is connected to every neuron in the next layer."
      ],
      "metadata": {
        "id": "IYDtyglJDqPB"
      },
      "execution_count": 11,
      "outputs": []
    },
    {
      "cell_type": "code",
      "source": [
        "# now let us compile the model (that is all layers should be compiled to create the deep learning structure)\n",
        "\n",
        "\n",
        "model.compile(loss = 'mean_squared_error', optimizer = 'adam')\n",
        "\n",
        "#Compilation is a crucial step that configures the learning process. Here, we specify:\n",
        "\n",
        "#The optimizer: adam (Adaptive Moment Estimation), which adapts the learning rate during training.\n",
        "#The loss function: mean_squared_error, which is the mean squared error loss function.\n",
        "\n"
      ],
      "metadata": {
        "id": "YGuhlVFwD0Y5"
      },
      "execution_count": 12,
      "outputs": []
    },
    {
      "cell_type": "markdown",
      "source": [
        "### Step2: Training the data"
      ],
      "metadata": {
        "id": "73cRpWb3Qq-T"
      }
    },
    {
      "cell_type": "code",
      "source": [
        "# trained model\n",
        "\n",
        "\n",
        "trained_model = model.fit(x_train, y_train, epochs = 100, verbose =0)\n",
        "\n"
      ],
      "metadata": {
        "id": "ojkqBniNHtNH"
      },
      "execution_count": 15,
      "outputs": []
    },
    {
      "cell_type": "code",
      "source": [
        "\n",
        "# plotting it\n",
        "\n",
        "import matplotlib.pyplot as plt\n",
        "\n",
        "plt.plot(trained_model.history['loss'])\n",
        "plt.title('model loss')\n",
        "plt.ylabel('loss')\n",
        "plt.xlabel('epoch')\n",
        "plt.legend(['train'], loc='lower left')\n",
        "plt.show()"
      ],
      "metadata": {
        "colab": {
          "base_uri": "https://localhost:8080/",
          "height": 472
        },
        "id": "XtRMcstnJxcQ",
        "outputId": "2eb7b04c-776a-4692-d488-e1ceaaf3bf98"
      },
      "execution_count": 18,
      "outputs": [
        {
          "output_type": "display_data",
          "data": {
            "text/plain": [
              "<Figure size 640x480 with 1 Axes>"
            ],
            "image/png": "[encoded data removed]"
          },
          "metadata": {}
        }
      ]
    },
    {
      "cell_type": "markdown",
      "source": [
        "###  Step 3: Make predictions"
      ],
      "metadata": {
        "id": "0y8KIqHHP_Xh"
      }
    },
    {
      "cell_type": "code",
      "source": [
        "# making predictions\n",
        "from sklearn.metrics import mean_squared_error\n",
        "\n",
        "y_pred = model.predict(x_train)\n",
        "\n",
        "print(mean_squared_error(y_train, y_pred))"
      ],
      "metadata": {
        "colab": {
          "base_uri": "https://localhost:8080/"
        },
        "id": "Tyddlg8zKj9e",
        "outputId": "06dcf98d-ae4a-4308-810f-d4cc4b4fbd55"
      },
      "execution_count": 20,
      "outputs": [
        {
          "output_type": "stream",
          "name": "stdout",
          "text": [
            "1/1 [==============================] - 0s 82ms/step\n",
            "1.1243581032930383\n"
          ]
        }
      ]
    },
    {
      "cell_type": "code",
      "source": [
        "# the model average error is about 1.124"
      ],
      "metadata": {
        "id": "cZCWEN92LPY-"
      },
      "execution_count": null,
      "outputs": []
    }
  ]
}